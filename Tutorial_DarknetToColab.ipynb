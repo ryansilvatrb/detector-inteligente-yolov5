{
  "nbformat": 4,
  "nbformat_minor": 0,
  "metadata": {
    "colab": {
      "provenance": [],
      "private_outputs": true,
      "include_colab_link": true
    },
    "kernelspec": {
      "name": "python3",
      "display_name": "Python 3"
    },
    "accelerator": "GPU"
  },
  "cells": [
    {
      "cell_type": "markdown",
      "metadata": {
        "id": "view-in-github",
        "colab_type": "text"
      },
      "source": [
        "<a href=\"https://colab.research.google.com/github/ryansilvatrb/detector-inteligente-yolov5/blob/main/Tutorial_DarknetToColab.ipynb\" target=\"_parent\"><img src=\"https://colab.research.google.com/assets/colab-badge.svg\" alt=\"Open In Colab\"/></a>"
      ]
    },
    {
      "cell_type": "markdown",
      "metadata": {
        "id": "Ll6XWs4WeErH"
      },
      "source": [
        "![Notebook Title](http://blog.ibanyez.info/download/B20190408T000000071.jpg)"
      ]
    },
    {
      "cell_type": "markdown",
      "metadata": {
        "id": "Cqo1gtPX6BXO"
      },
      "source": [
        "# How to train YOLOv3 using Darknet on Colab notebook and optimize the VM runtime load times\n",
        "\n",
        "## Welcome!\n",
        "\n",
        "This Colab notebook will show you how to:\n",
        "\n",
        "* Train a **Yolo v3** model using **Darknet** using the Colab **12GB-RAM GPU**.\n",
        "* Turn Colab notebooks into an effective tool to work on real projects. Dealing with the handicap of a runtime that will **blow up every 12 hours** into the space!\n",
        "  * Working directly from the files on your computer.\n",
        "  * Configure your notebook to install everything you need and start training in about a minute (Tested using 550MB dataset).\n",
        "  * Receive your trained weights directly on your computer during the training. While the notebook is training you can check how it is going using your trained weights in your computer.\n",
        "\n",
        "\n",
        "#### This notebook is part of the post [How to train YOLOv3 using Darknet framework and optimize the VM runtime load times](http://blog.ibanyez.info/blogs/coding/20190410-run-a-google-colab-notebook-to-train-yolov3-using-darknet-in/) I encourage you to visit! You will find a deeper explanation about Google Colab, the goods and the limitations of this great tool.\n",
        "\n",
        "\n",
        "### These are the steps we'll follow:\n",
        "\n",
        "* Configure Google Drive and map as network  _Drive_.\n",
        "* Some utils to help to do some tasks.\n",
        "* Configure the pre-requisites on the runtime.\n",
        "  * Check the CUDA installation on the runtime VM.\n",
        "  * Install cuDNN.\n",
        "  * Clone and compile Darknet. We'll use a repo based on [AlexeyAB's Darknet repo](https://github.com/AlexeyAB/darknet/). I applied  some changes to make possible to load files from `/My Drive/` and reduced the number of logs on console to speed up the notebook.\n",
        "  * We'll check that everything works great.\n",
        "* Explained how to manage your YOLO files on your computer and it will be used transparently from this notebook.\n",
        "\n",
        "> _**NOTE:** Cells with an annotation **`# Not Necessary cell`**. Can be removed without having any impact. They are only explanatory content._\n",
        "\n",
        "### Without further ado, let's start!\n"
      ]
    },
    {
      "cell_type": "markdown",
      "metadata": {
        "id": "G4J9sFi39ScM"
      },
      "source": [
        "## STEP 0. Configure runtime to work with GPU\n",
        "\n",
        "We want to use the **12GB-RAM GPU** hardware acceleration!\n",
        "\n",
        "Go to **> Menu > Runtime > Configure Runtime Type** And select **GPU** From the **Hardware accelerator** drop down meu"
      ]
    },
    {
      "cell_type": "markdown",
      "metadata": {
        "id": "uOJg1x9gLvcj"
      },
      "source": [
        "## STEP 1. Connect your files to Google Drive\n",
        "In order to have your files in your local computer you need to install and configure Google Backup and Sync to keep one folder of your Drive synced with a folder on your computer.\n",
        "\n",
        "![schema drive.jpg](http://blog.ibanyez.info/download/B20190408T000000060.jpg)\n",
        "\n",
        "1. Create a folder on your Google Drive named _**darknet**_\n",
        "2. Configure the Google Backup and Sync as follows. If you don't speak Spanish, you maybe learn some words! **;)**\n",
        "![Sync Drive.jpg](http://blog.ibanyez.info/download/B20190408T000000063.jpg)\n",
        "\n",
        "**After this step you'll have a folder called _darknet_ in your local computer. This folder is where you will work with files on your computer**\n",
        "\n",
        "> _**TIP** - We need to have a good performance downloading data from Drive to Colab. Having a lot of files in your Drive root folder can slow down the things quite a bit. It's a good practice working with Colab to move all your root folder files into a folder_\n",
        "\n",
        "\n"
      ]
    },
    {
      "cell_type": "markdown",
      "metadata": {
        "id": "xaAwkZv0rBQd"
      },
      "source": [
        "## STEP 2. Connect the Colab notebook to Google Drive\n",
        "\n",
        "Now we're gonna map your Google Drive folder. This first step is the only one that will require your manual interaction every time you run your notebook.\n",
        "\n",
        "* Execute the following cell _(Click on Play button or press CTRL + ENTER)_ and click on the link to authorize your notebook to access to your Google Drive.\n",
        "* Paste the code Google will give to you and push `enter`"
      ]
    },
    {
      "cell_type": "code",
      "metadata": {
        "id": "LJZRcEw0LoBd"
      },
      "source": [
        "# ================================\n",
        "# 1. Configuração do ambiente\n",
        "# ================================\n",
        "!git clone https://github.com/ultralytics/yolov5\n",
        "%cd yolov5\n",
        "!pip install -r requirements.txt\n",
        "\n",
        "# ================================\n",
        "# 2. Download do dataset COCO128\n",
        "# ================================\n",
        "# Baixa automaticamente o COCO128 (imagens + labels)\n",
        "!bash data/scripts/download_dataset.sh\n",
        "\n",
        "# O dataset fica em: /content/datasets/coco128\n",
        "\n",
        "# ================================\n",
        "# 3. Treinamento\n",
        "# ================================\n",
        "!python train.py --img 416 --batch 16 --epochs 10 --data data/coco128.yaml --weights yolov5s.pt --project /content/runs/train --name exp\n",
        "\n",
        "# ================================\n",
        "# 4. Resultados\n",
        "# ================================\n",
        "import glob\n",
        "print(\"📊 Arquivos de saída:\", glob.glob(\"/content/runs/train/exp/*\"))\n",
        "\n",
        "# ================================\n",
        "# 5. Inferência em imagens de teste\n",
        "# ================================\n",
        "!python detect.py --weights /content/runs/train/exp/weights/best.pt --img 416 --source /content/datasets/coco128/images/train2017\n",
        "\n",
        "print(\"✅ Resultados salvos em runs/detect/exp\")\n"
      ],
      "execution_count": null,
      "outputs": []
    },
    {
      "cell_type": "markdown",
      "metadata": {
        "id": "V8pPjCXXvASq"
      },
      "source": [
        "Congratulations! Now you can access to your local computer folder directly from here!\n",
        "\n",
        "Check it out!"
      ]
    }
  ]
}